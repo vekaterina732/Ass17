{
 "cells": [
  {
   "cell_type": "code",
   "execution_count": 1,
   "id": "e56a16a7-6d70-4282-af4a-dc179262d64b",
   "metadata": {
    "tags": []
   },
   "outputs": [
    {
     "name": "stdout",
     "output_type": "stream",
     "text": [
      "Requirement already satisfied: pandas in /opt/conda/lib/python3.10/site-packages (2.2.3)\n",
      "Requirement already satisfied: python-dateutil>=2.8.2 in /opt/conda/lib/python3.10/site-packages (from pandas) (2.8.2)\n",
      "Requirement already satisfied: pytz>=2020.1 in /opt/conda/lib/python3.10/site-packages (from pandas) (2022.7.1)\n",
      "Requirement already satisfied: numpy>=1.22.4 in /opt/conda/lib/python3.10/site-packages (from pandas) (2.1.3)\n",
      "Requirement already satisfied: tzdata>=2022.7 in /opt/conda/lib/python3.10/site-packages (from pandas) (2024.2)\n",
      "Requirement already satisfied: six>=1.5 in /opt/conda/lib/python3.10/site-packages (from python-dateutil>=2.8.2->pandas) (1.16.0)\n",
      "\u001b[33mWARNING: There was an error checking the latest version of pip.\u001b[0m\u001b[33m\n",
      "\u001b[0m"
     ]
    },
    {
     "ename": "ModuleNotFoundError",
     "evalue": "No module named 'matplotlib'",
     "output_type": "error",
     "traceback": [
      "\u001b[0;31m---------------------------------------------------------------------------\u001b[0m",
      "\u001b[0;31mModuleNotFoundError\u001b[0m                       Traceback (most recent call last)",
      "Cell \u001b[0;32mIn[1], line 6\u001b[0m\n\u001b[1;32m      4\u001b[0m \u001b[38;5;28;01mimport\u001b[39;00m \u001b[38;5;21;01mos\u001b[39;00m\n\u001b[1;32m      5\u001b[0m \u001b[38;5;28;01mimport\u001b[39;00m \u001b[38;5;21;01mpandas\u001b[39;00m \u001b[38;5;28;01mas\u001b[39;00m \u001b[38;5;21;01mpd\u001b[39;00m\n\u001b[0;32m----> 6\u001b[0m \u001b[38;5;28;01mfrom\u001b[39;00m \u001b[38;5;21;01mmatplotlib\u001b[39;00m \u001b[38;5;28;01mimport\u001b[39;00m pyplot \u001b[38;5;28;01mas\u001b[39;00m plt\n\u001b[1;32m      7\u001b[0m \u001b[38;5;28;01mimport\u001b[39;00m \u001b[38;5;21;01mseaborn\u001b[39;00m \u001b[38;5;28;01mas\u001b[39;00m \u001b[38;5;21;01msns\u001b[39;00m\n",
      "\u001b[0;31mModuleNotFoundError\u001b[0m: No module named 'matplotlib'"
     ]
    }
   ],
   "source": [
    "\n",
    "!pip install pandas\n",
    "import psycopg2\n",
    "from psycopg2.extras import DictCursor\n",
    "import os\n",
    "import pandas as pd\n",
    "from matplotlib import pyplot as plt\n",
    "import seaborn as sns"
   ]
  },
  {
   "cell_type": "code",
   "execution_count": 2,
   "id": "8d7c499c-4468-4141-8b31-4b8110cb26a4",
   "metadata": {
    "tags": []
   },
   "outputs": [],
   "source": [
    "sql_host = '10.129.0.25'"
   ]
  },
  {
   "cell_type": "code",
   "execution_count": 3,
   "id": "859be337-c567-44a6-8d0b-c1a1dbe191c5",
   "metadata": {
    "tags": []
   },
   "outputs": [],
   "source": [
    "def get_query(query: int):\n",
    "    with psycopg2.connect(\n",
    "        dbname = 'demo',\n",
    "        user = os.environ['POSTGRESQL_USER'],\n",
    "        password = os.environ['POSTGRESQL_PASSWORD'],\n",
    "        host = sql_host\n",
    "    )as c:\n",
    "        with c.cursor() as cur:\n",
    "            cur.execute(query)\n",
    "            res = cur.fetchall()\n",
    "            return res"
   ]
  },
  {
   "cell_type": "code",
   "execution_count": 4,
   "id": "232eb0df-4a4c-454f-943f-3481543f160d",
   "metadata": {
    "tags": []
   },
   "outputs": [
    {
     "data": {
      "text/html": [
       "<div>\n",
       "<style scoped>\n",
       "    .dataframe tbody tr th:only-of-type {\n",
       "        vertical-align: middle;\n",
       "    }\n",
       "\n",
       "    .dataframe tbody tr th {\n",
       "        vertical-align: top;\n",
       "    }\n",
       "\n",
       "    .dataframe thead th {\n",
       "        text-align: right;\n",
       "    }\n",
       "</style>\n",
       "<table border=\"1\" class=\"dataframe\">\n",
       "  <thead>\n",
       "    <tr style=\"text-align: right;\">\n",
       "      <th></th>\n",
       "      <th>passenger_name</th>\n",
       "      <th>departure_airport</th>\n",
       "      <th>arrival_airport</th>\n",
       "    </tr>\n",
       "  </thead>\n",
       "  <tbody>\n",
       "    <tr>\n",
       "      <th>0</th>\n",
       "      <td>ALEKSEY GERASIMOV</td>\n",
       "      <td>DME</td>\n",
       "      <td>EGO</td>\n",
       "    </tr>\n",
       "    <tr>\n",
       "      <th>1</th>\n",
       "      <td>ALEKSEY GERASIMOV</td>\n",
       "      <td>AAQ</td>\n",
       "      <td>EGO</td>\n",
       "    </tr>\n",
       "    <tr>\n",
       "      <th>2</th>\n",
       "      <td>ALEKSEY GERASIMOV</td>\n",
       "      <td>EGO</td>\n",
       "      <td>DME</td>\n",
       "    </tr>\n",
       "    <tr>\n",
       "      <th>3</th>\n",
       "      <td>ALEKSEY GERASIMOV</td>\n",
       "      <td>EGO</td>\n",
       "      <td>AAQ</td>\n",
       "    </tr>\n",
       "  </tbody>\n",
       "</table>\n",
       "</div>"
      ],
      "text/plain": [
       "      passenger_name departure_airport arrival_airport\n",
       "0  ALEKSEY GERASIMOV               DME             EGO\n",
       "1  ALEKSEY GERASIMOV               AAQ             EGO\n",
       "2  ALEKSEY GERASIMOV               EGO             DME\n",
       "3  ALEKSEY GERASIMOV               EGO             AAQ"
      ]
     },
     "execution_count": 4,
     "metadata": {},
     "output_type": "execute_result"
    }
   ],
   "source": [
    "query = \"\"\"\n",
    "SELECT t.passenger_name, f.departure_airport, f.arrival_airport\n",
    "FROM tickets t\n",
    "JOIN ticket_flights tf ON t.ticket_no = tf.ticket_no\n",
    "JOIN flights f ON tf.flight_id = f.flight_id\n",
    "WHERE t.ticket_no = '0005432312164'\n",
    "\"\"\"\n",
    "res = get_query(query)\n",
    "df = pd.DataFrame(res, columns=['passenger_name', 'departure_airport', 'arrival_airport'])\n",
    "df"
   ]
  },
  {
   "cell_type": "code",
   "execution_count": 5,
   "id": "d972f74c-3c71-4cb4-8861-ac299d9b3989",
   "metadata": {
    "tags": []
   },
   "outputs": [
    {
     "data": {
      "text/html": [
       "<div>\n",
       "<style scoped>\n",
       "    .dataframe tbody tr th:only-of-type {\n",
       "        vertical-align: middle;\n",
       "    }\n",
       "\n",
       "    .dataframe tbody tr th {\n",
       "        vertical-align: top;\n",
       "    }\n",
       "\n",
       "    .dataframe thead th {\n",
       "        text-align: right;\n",
       "    }\n",
       "</style>\n",
       "<table border=\"1\" class=\"dataframe\">\n",
       "  <thead>\n",
       "    <tr style=\"text-align: right;\">\n",
       "      <th></th>\n",
       "      <th>passenger_name</th>\n",
       "      <th>departure_airport</th>\n",
       "      <th>arrival_airport</th>\n",
       "    </tr>\n",
       "  </thead>\n",
       "  <tbody>\n",
       "    <tr>\n",
       "      <th>0</th>\n",
       "      <td>ALEKSEY GERASIMOV</td>\n",
       "      <td>N/A</td>\n",
       "      <td>N/A</td>\n",
       "    </tr>\n",
       "  </tbody>\n",
       "</table>\n",
       "</div>"
      ],
      "text/plain": [
       "      passenger_name departure_airport arrival_airport\n",
       "0  ALEKSEY GERASIMOV               N/A             N/A"
      ]
     },
     "execution_count": 5,
     "metadata": {},
     "output_type": "execute_result"
    }
   ],
   "source": [
    "query = \"\"\"\n",
    "SELECT passenger_name, 'N/A' AS departure_airport, 'N/A' AS arrival_airport\n",
    "FROM tickets\n",
    "WHERE ticket_no = '0005432312164'\n",
    "\"\"\"\n",
    "res = get_query(query)\n",
    "df = pd.DataFrame(res, columns=['passenger_name', 'departure_airport', 'arrival_airport'])\n",
    "df"
   ]
  },
  {
   "cell_type": "code",
   "execution_count": 6,
   "id": "60d456c8-8d0e-4337-845e-765f3f0cee44",
   "metadata": {},
   "outputs": [
    {
     "data": {
      "text/html": [
       "<div>\n",
       "<style scoped>\n",
       "    .dataframe tbody tr th:only-of-type {\n",
       "        vertical-align: middle;\n",
       "    }\n",
       "\n",
       "    .dataframe tbody tr th {\n",
       "        vertical-align: top;\n",
       "    }\n",
       "\n",
       "    .dataframe thead th {\n",
       "        text-align: right;\n",
       "    }\n",
       "</style>\n",
       "<table border=\"1\" class=\"dataframe\">\n",
       "  <thead>\n",
       "    <tr style=\"text-align: right;\">\n",
       "      <th></th>\n",
       "      <th>passenger_name</th>\n",
       "      <th>departure_airport</th>\n",
       "      <th>arrival_airport</th>\n",
       "    </tr>\n",
       "  </thead>\n",
       "  <tbody>\n",
       "    <tr>\n",
       "      <th>0</th>\n",
       "      <td>ALEKSEY GERASIMOV</td>\n",
       "      <td>DME</td>\n",
       "      <td>EGO</td>\n",
       "    </tr>\n",
       "    <tr>\n",
       "      <th>1</th>\n",
       "      <td>ALEKSEY GERASIMOV</td>\n",
       "      <td>AAQ</td>\n",
       "      <td>EGO</td>\n",
       "    </tr>\n",
       "    <tr>\n",
       "      <th>2</th>\n",
       "      <td>ALEKSEY GERASIMOV</td>\n",
       "      <td>EGO</td>\n",
       "      <td>DME</td>\n",
       "    </tr>\n",
       "    <tr>\n",
       "      <th>3</th>\n",
       "      <td>ALEKSEY GERASIMOV</td>\n",
       "      <td>EGO</td>\n",
       "      <td>AAQ</td>\n",
       "    </tr>\n",
       "  </tbody>\n",
       "</table>\n",
       "</div>"
      ],
      "text/plain": [
       "      passenger_name departure_airport arrival_airport\n",
       "0  ALEKSEY GERASIMOV               DME             EGO\n",
       "1  ALEKSEY GERASIMOV               AAQ             EGO\n",
       "2  ALEKSEY GERASIMOV               EGO             DME\n",
       "3  ALEKSEY GERASIMOV               EGO             AAQ"
      ]
     },
     "execution_count": 6,
     "metadata": {},
     "output_type": "execute_result"
    }
   ],
   "source": [
    "query = \"\"\"\n",
    "SELECT t.passenger_name, f.departure_airport, f.arrival_airport\n",
    "FROM tickets t\n",
    "JOIN ticket_flights tf ON t.ticket_no = tf.ticket_no\n",
    "JOIN flights f ON tf.flight_id = f.flight_id\n",
    "WHERE t.ticket_no = '0005432312164'\n",
    "\"\"\"\n",
    "res = get_query(query)\n",
    "df = pd.DataFrame(res, columns=['passenger_name', 'departure_airport', 'arrival_airport'])\n",
    "df"
   ]
  },
  {
   "cell_type": "code",
   "execution_count": 7,
   "id": "6a1b948e-6f2c-4e4e-bead-bd435c17e30e",
   "metadata": {
    "tags": []
   },
   "outputs": [
    {
     "data": {
      "text/html": [
       "<div>\n",
       "<style scoped>\n",
       "    .dataframe tbody tr th:only-of-type {\n",
       "        vertical-align: middle;\n",
       "    }\n",
       "\n",
       "    .dataframe tbody tr th {\n",
       "        vertical-align: top;\n",
       "    }\n",
       "\n",
       "    .dataframe thead th {\n",
       "        text-align: right;\n",
       "    }\n",
       "</style>\n",
       "<table border=\"1\" class=\"dataframe\">\n",
       "  <thead>\n",
       "    <tr style=\"text-align: right;\">\n",
       "      <th></th>\n",
       "      <th>flight_id</th>\n",
       "      <th>departure_city</th>\n",
       "      <th>arrival_city</th>\n",
       "    </tr>\n",
       "  </thead>\n",
       "  <tbody>\n",
       "    <tr>\n",
       "      <th>0</th>\n",
       "      <td>8202</td>\n",
       "      <td>Moscow</td>\n",
       "      <td>Yuzhno-Sakhalinsk</td>\n",
       "    </tr>\n",
       "    <tr>\n",
       "      <th>1</th>\n",
       "      <td>11445</td>\n",
       "      <td>Moscow</td>\n",
       "      <td>Khanty-Mansiysk</td>\n",
       "    </tr>\n",
       "    <tr>\n",
       "      <th>2</th>\n",
       "      <td>142605</td>\n",
       "      <td>Khanty-Mansiysk</td>\n",
       "      <td>Moscow</td>\n",
       "    </tr>\n",
       "    <tr>\n",
       "      <th>3</th>\n",
       "      <td>34407</td>\n",
       "      <td>Moscow</td>\n",
       "      <td>Yekaterinburg</td>\n",
       "    </tr>\n",
       "    <tr>\n",
       "      <th>4</th>\n",
       "      <td>70804</td>\n",
       "      <td>Yekaterinburg</td>\n",
       "      <td>Moscow</td>\n",
       "    </tr>\n",
       "    <tr>\n",
       "      <th>5</th>\n",
       "      <td>74285</td>\n",
       "      <td>Yekaterinburg</td>\n",
       "      <td>Magnetiogorsk</td>\n",
       "    </tr>\n",
       "    <tr>\n",
       "      <th>6</th>\n",
       "      <td>193132</td>\n",
       "      <td>Magnetiogorsk</td>\n",
       "      <td>Yekaterinburg</td>\n",
       "    </tr>\n",
       "  </tbody>\n",
       "</table>\n",
       "</div>"
      ],
      "text/plain": [
       "   flight_id   departure_city       arrival_city\n",
       "0       8202           Moscow  Yuzhno-Sakhalinsk\n",
       "1      11445           Moscow    Khanty-Mansiysk\n",
       "2     142605  Khanty-Mansiysk             Moscow\n",
       "3      34407           Moscow      Yekaterinburg\n",
       "4      70804    Yekaterinburg             Moscow\n",
       "5      74285    Yekaterinburg      Magnetiogorsk\n",
       "6     193132    Magnetiogorsk      Yekaterinburg"
      ]
     },
     "execution_count": 7,
     "metadata": {},
     "output_type": "execute_result"
    }
   ],
   "source": [
    "query = \"\"\"\n",
    "SELECT f.flight_id, departure.city AS departure_city, arrival.city AS arrival_city\n",
    "FROM flights f\n",
    "JOIN ticket_flights tf ON f.flight_id = tf.flight_id\n",
    "JOIN tickets t ON tf.ticket_no = t.ticket_no\n",
    "JOIN airports departure ON f.departure_airport = departure.airport_code\n",
    "JOIN airports arrival ON f.arrival_airport = arrival.airport_code\n",
    "WHERE t.passenger_name = 'ELLA DMITRIEVA'\n",
    "\"\"\"\n",
    "res = get_query(query)\n",
    "df = pd.DataFrame(res, columns=['flight_id', 'departure_city', 'arrival_city'])\n",
    "df"
   ]
  },
  {
   "cell_type": "code",
   "execution_count": 9,
   "id": "a72293ec-2116-4440-ac36-17849b1dbc2a",
   "metadata": {
    "tags": []
   },
   "outputs": [
    {
     "data": {
      "text/html": [
       "<div>\n",
       "<style scoped>\n",
       "    .dataframe tbody tr th:only-of-type {\n",
       "        vertical-align: middle;\n",
       "    }\n",
       "\n",
       "    .dataframe tbody tr th {\n",
       "        vertical-align: top;\n",
       "    }\n",
       "\n",
       "    .dataframe thead th {\n",
       "        text-align: right;\n",
       "    }\n",
       "</style>\n",
       "<table border=\"1\" class=\"dataframe\">\n",
       "  <thead>\n",
       "    <tr style=\"text-align: right;\">\n",
       "      <th></th>\n",
       "      <th>0</th>\n",
       "      <th>1</th>\n",
       "      <th>2</th>\n",
       "    </tr>\n",
       "  </thead>\n",
       "  <tbody>\n",
       "    <tr>\n",
       "      <th>0</th>\n",
       "      <td>773</td>\n",
       "      <td>Boeing 777-300</td>\n",
       "      <td>11100</td>\n",
       "    </tr>\n",
       "    <tr>\n",
       "      <th>1</th>\n",
       "      <td>763</td>\n",
       "      <td>Boeing 767-300</td>\n",
       "      <td>7900</td>\n",
       "    </tr>\n",
       "    <tr>\n",
       "      <th>2</th>\n",
       "      <td>SU9</td>\n",
       "      <td>Sukhoi Superjet-100</td>\n",
       "      <td>3000</td>\n",
       "    </tr>\n",
       "    <tr>\n",
       "      <th>3</th>\n",
       "      <td>320</td>\n",
       "      <td>Airbus A320-200</td>\n",
       "      <td>5700</td>\n",
       "    </tr>\n",
       "    <tr>\n",
       "      <th>4</th>\n",
       "      <td>321</td>\n",
       "      <td>Airbus A321-200</td>\n",
       "      <td>5600</td>\n",
       "    </tr>\n",
       "  </tbody>\n",
       "</table>\n",
       "</div>"
      ],
      "text/plain": [
       "     0                    1      2\n",
       "0  773       Boeing 777-300  11100\n",
       "1  763       Boeing 767-300   7900\n",
       "2  SU9  Sukhoi Superjet-100   3000\n",
       "3  320      Airbus A320-200   5700\n",
       "4  321      Airbus A321-200   5600"
      ]
     },
     "execution_count": 9,
     "metadata": {},
     "output_type": "execute_result"
    }
   ],
   "source": [
    "query = \"\"\"\n",
    "SELECT *\n",
    "FROM aircrafts\n",
    "LIMIT 5\n",
    "\"\"\"\n",
    "res = get_query(query)\n",
    "df = pd.DataFrame(res)\n",
    "df"
   ]
  },
  {
   "cell_type": "code",
   "execution_count": null,
   "id": "b0d85449-4111-47d2-ba39-cf1431c5a3d7",
   "metadata": {},
   "outputs": [],
   "source": []
  }
 ],
 "metadata": {
  "kernelspec": {
   "display_name": "Python 3 (ipykernel)",
   "language": "python",
   "name": "python3"
  },
  "language_info": {
   "codemirror_mode": {
    "name": "ipython",
    "version": 3
   },
   "file_extension": ".py",
   "mimetype": "text/x-python",
   "name": "python",
   "nbconvert_exporter": "python",
   "pygments_lexer": "ipython3",
   "version": "3.10.9"
  }
 },
 "nbformat": 4,
 "nbformat_minor": 5
}
